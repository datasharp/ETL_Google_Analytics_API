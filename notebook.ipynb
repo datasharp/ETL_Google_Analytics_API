{
 "cells": [
  {
   "cell_type": "code",
   "execution_count": 80,
   "metadata": {},
   "outputs": [
    {
     "name": "stdout",
     "output_type": "stream",
     "text": [
      "data extraction is successfully completed\n"
     ]
    }
   ],
   "source": [
    "%run scrape.py"
   ]
  },
  {
   "cell_type": "code",
   "execution_count": 81,
   "metadata": {},
   "outputs": [
    {
     "data": {
      "text/html": [
       "<div>\n",
       "<style scoped>\n",
       "    .dataframe tbody tr th:only-of-type {\n",
       "        vertical-align: middle;\n",
       "    }\n",
       "\n",
       "    .dataframe tbody tr th {\n",
       "        vertical-align: top;\n",
       "    }\n",
       "\n",
       "    .dataframe thead th {\n",
       "        text-align: right;\n",
       "    }\n",
       "</style>\n",
       "<table border=\"1\" class=\"dataframe\">\n",
       "  <thead>\n",
       "    <tr style=\"text-align: right;\">\n",
       "      <th></th>\n",
       "      <th>channelGrouping</th>\n",
       "      <th>goal5Completions</th>\n",
       "      <th>users</th>\n",
       "      <th>newUsers</th>\n",
       "      <th>sessions</th>\n",
       "      <th>date_range</th>\n",
       "    </tr>\n",
       "  </thead>\n",
       "  <tbody>\n",
       "    <tr>\n",
       "      <th>0</th>\n",
       "      <td>Direct</td>\n",
       "      <td>24</td>\n",
       "      <td>399</td>\n",
       "      <td>375</td>\n",
       "      <td>465</td>\n",
       "      <td>2022-12-01_2022-12-23</td>\n",
       "    </tr>\n",
       "    <tr>\n",
       "      <th>1</th>\n",
       "      <td>Email</td>\n",
       "      <td>0</td>\n",
       "      <td>9</td>\n",
       "      <td>9</td>\n",
       "      <td>9</td>\n",
       "      <td>2022-12-01_2022-12-23</td>\n",
       "    </tr>\n",
       "    <tr>\n",
       "      <th>2</th>\n",
       "      <td>Organic Search</td>\n",
       "      <td>36</td>\n",
       "      <td>665</td>\n",
       "      <td>570</td>\n",
       "      <td>891</td>\n",
       "      <td>2022-12-01_2022-12-23</td>\n",
       "    </tr>\n",
       "    <tr>\n",
       "      <th>3</th>\n",
       "      <td>Referral</td>\n",
       "      <td>2</td>\n",
       "      <td>151</td>\n",
       "      <td>127</td>\n",
       "      <td>195</td>\n",
       "      <td>2022-12-01_2022-12-23</td>\n",
       "    </tr>\n",
       "    <tr>\n",
       "      <th>4</th>\n",
       "      <td>Social</td>\n",
       "      <td>4</td>\n",
       "      <td>61</td>\n",
       "      <td>55</td>\n",
       "      <td>93</td>\n",
       "      <td>2022-12-01_2022-12-23</td>\n",
       "    </tr>\n",
       "  </tbody>\n",
       "</table>\n",
       "</div>"
      ],
      "text/plain": [
       "  channelGrouping goal5Completions users newUsers sessions  \\\n",
       "0          Direct               24   399      375      465   \n",
       "1           Email                0     9        9        9   \n",
       "2  Organic Search               36   665      570      891   \n",
       "3        Referral                2   151      127      195   \n",
       "4          Social                4    61       55       93   \n",
       "\n",
       "              date_range  \n",
       "0  2022-12-01_2022-12-23  \n",
       "1  2022-12-01_2022-12-23  \n",
       "2  2022-12-01_2022-12-23  \n",
       "3  2022-12-01_2022-12-23  \n",
       "4  2022-12-01_2022-12-23  "
      ]
     },
     "execution_count": 81,
     "metadata": {},
     "output_type": "execute_result"
    }
   ],
   "source": [
    "data"
   ]
  },
  {
   "cell_type": "markdown",
   "metadata": {},
   "source": []
  }
 ],
 "metadata": {
  "kernelspec": {
   "display_name": "Python 3.9.7 ('base')",
   "language": "python",
   "name": "python3"
  },
  "language_info": {
   "codemirror_mode": {
    "name": "ipython",
    "version": 3
   },
   "file_extension": ".py",
   "mimetype": "text/x-python",
   "name": "python",
   "nbconvert_exporter": "python",
   "pygments_lexer": "ipython3",
   "version": "3.9.7"
  },
  "orig_nbformat": 4,
  "vscode": {
   "interpreter": {
    "hash": "0a53f646403b004a7347d01e6655f0e1489b2eadaa0faa3e72dac223e64bc867"
   }
  }
 },
 "nbformat": 4,
 "nbformat_minor": 2
}
